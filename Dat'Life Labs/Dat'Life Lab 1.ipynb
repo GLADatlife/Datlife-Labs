{
 "cells": [
  {
   "cell_type": "markdown",
   "id": "8c40383d-acc2-4dca-b721-05d3dcf199ec",
   "metadata": {
    "nbgrader": {
     "grade": false,
     "grade_id": "Lab1_intro",
     "locked": true,
     "schema_version": 3,
     "solution": false,
     "task": false
    }
   },
   "source": [
    "# Lab 1: Introduction to Jupyter Notebook & Python\n",
    "\n",
    "Welcome to Jupyter Notebook! This is an interactive web-based application that will allow us to practice coding and applying the statistics concepts we learn to real world datasets. We'll be working in Python, one of the most frequently used programming languages for data science. The goal of this lab is to familiarize ourselves with Jupyter Notebook and some Python basics to set us up for future labs. Let's get started!"
   ]
  },
  {
   "cell_type": "markdown",
   "id": "77d6cad0-fe27-4b63-9b2a-62061fc536ec",
   "metadata": {
    "nbgrader": {
     "grade": false,
     "grade_id": "Part1_intro",
     "locked": true,
     "schema_version": 3,
     "solution": false,
     "task": false
    }
   },
   "source": [
    "## Part 1: Jupyter Notebook\n",
    "\n",
    "### 1a. Types of Cells\n",
    "Each notebook is made up of many different cells, which are blocks of code or text. There are different types of cells we can use depending on what we want to do. To activate or \"run\" a cell, you can:\n",
    "\n",
    "- Click \"Run\" in the top menu bar, and then click \"Run Selected Cell.\"\n",
    "\n",
    "- Click the \"run cell\" button in the second menu bar, directly underneath \"Run.\" It looks like a singular black triangle.\n",
    "\n",
    "- Select the cell, and press **`shift`** + **`enter`** on your keyboard.\n",
    "\n",
    "\n",
    "A **markdown cell** is a cell that displays text, typically used for formatting purposes or to include instructions and explanations. So far, all of the cells in this lab have been markdown cells. To edit a markdown cell, double click the cell.\n",
    "\n",
    "**Q1a.1.** Edit the cell below to fill in the all-caps words (\"MY CITY,\" \"RESTAURANT NAME,\" and \"PLACE\") with your answers. Then run the cell and see what it looks like!"
   ]
  },
  {
   "cell_type": "markdown",
   "id": "8f19311c-179b-4b69-8b1f-9df118b7bf7c",
   "metadata": {
    "nbgrader": {
     "grade": true,
     "grade_id": "Q1a1",
     "locked": false,
     "points": 1,
     "schema_version": 3,
     "solution": true,
     "task": false
    }
   },
   "source": [
    "The best restaurant in MY CITY is RESTAURANT NAME. The best place to hang out is PLACE."
   ]
  },
  {
   "cell_type": "markdown",
   "id": "a195b17d-8666-4152-a309-6db23fc6bd7c",
   "metadata": {
    "nbgrader": {
     "grade": false,
     "grade_id": "Q1a2_intro",
     "locked": true,
     "schema_version": 3,
     "solution": false,
     "task": false
    }
   },
   "source": [
    "A **code cell** is a cell where you can input code and execute it. To edit a code cell, click once on the cell. When activated, the cell should be highlighted in a blue or green rectangle.\n",
    "\n",
    "**Q1a.2.** Edit the cell below to replace the all-caps word (\"NAME\") with your name. Then run the cell and see what happens!"
   ]
  },
  {
   "cell_type": "code",
   "execution_count": null,
   "id": "af2f3570-49d4-4311-b306-cfa02cd5371c",
   "metadata": {
    "nbgrader": {
     "grade": true,
     "grade_id": "Q1a2",
     "locked": false,
     "points": 0,
     "schema_version": 3,
     "solution": true,
     "task": false
    }
   },
   "outputs": [],
   "source": [
    "print(\"Welcome to Dat'Life, NAME!\")"
   ]
  },
  {
   "cell_type": "markdown",
   "id": "f4353930-2ff7-40c6-9c27-e3c1fc5c9fd9",
   "metadata": {
    "nbgrader": {
     "grade": false,
     "grade_id": "Q1b1",
     "locked": true,
     "points": 0,
     "schema_version": 3,
     "solution": false,
     "task": true
    }
   },
   "source": [
    "### 1b. Creating and Deleting Cells\n",
    "\n",
    "All of the labs in Dat'Life will be pre-populated with instructions and empty cells where you can put in your own code. However, sometimes you might need to make a new cell for scratch work, or to process additional information.\n",
    "\n",
    "To add a cell, click the + button in the second menu bar (underneath File). It will start as a **code cell**.\n",
    "\n",
    "**Q1b.1.** Make a new cell below and input code so that it prints:\n",
    "\n",
    "We're almost done with Part 1 of this lab.\n",
    "\n",
    "\n",
    "*Hint: Look at the code cell of **Q1a.2.** to see how we might print text in a code cell.*"
   ]
  },
  {
   "cell_type": "markdown",
   "id": "d1f8857b-7de0-43ce-83d4-cb37fc0afef4",
   "metadata": {
    "nbgrader": {
     "grade": false,
     "grade_id": "Q1b2_intro",
     "locked": true,
     "schema_version": 3,
     "solution": false,
     "task": false
    }
   },
   "source": [
    "To change the cell to a markdown cell, click the cell you want to change, and then click the dropdown menu in the second menu bar next to the double triangles. (It will probably say \"Code.\") Select \"Markdown.\"\n",
    "\n",
    "**Q1b.2.** Change the code cell below into a **markdown cell** and run it."
   ]
  },
  {
   "cell_type": "code",
   "execution_count": null,
   "id": "44bcfc04-388b-4545-83d1-cf82c212b533",
   "metadata": {
    "nbgrader": {
     "grade": false,
     "grade_id": "Q1b2",
     "locked": true,
     "points": 0,
     "schema_version": 3,
     "solution": false,
     "task": true
    }
   },
   "outputs": [],
   "source": [
    "print(\"Happy birthday!\")"
   ]
  },
  {
   "cell_type": "markdown",
   "id": "bf81d437-27ac-49f4-b752-31dc8b3ef76c",
   "metadata": {
    "nbgrader": {
     "grade": false,
     "grade_id": "Q1b3_intro",
     "locked": true,
     "schema_version": 3,
     "solution": false,
     "task": false
    }
   },
   "source": [
    "Alternatively, if you are working in a code cell, you can add a cell above or underneath your current cell with the menu bar in the upper right corner of the cell. To add a cell above, click the third-to-last button with a + sign above a rectangle. To add a cell below, click the second-to-last button with a + sign below a rectangle.\n",
    "\n",
    "To delete a cell, click on the cell to activate it, and then click the trash button in the upper right corner of the cell.\n",
    "\n",
    "**Q1b.3.** Delete the cells below so that this cell is the last cell in section 1b."
   ]
  },
  {
   "cell_type": "markdown",
   "id": "24742360-65ee-43e3-85c8-1fc072485ba1",
   "metadata": {
    "nbgrader": {
     "grade": false,
     "grade_id": "Q1b3a",
     "locked": true,
     "points": 0,
     "schema_version": 3,
     "solution": false,
     "task": true
    }
   },
   "source": [
    "My favorite place in Washington, D.C. is the Smithsonian Museum of American Art! I love the courtyard in the middle of the museum."
   ]
  },
  {
   "cell_type": "code",
   "execution_count": null,
   "id": "f5a1920e-f0f9-49bf-ad80-d08670cf8efc",
   "metadata": {
    "nbgrader": {
     "grade": false,
     "grade_id": "Q1b3b",
     "locked": true,
     "points": 0,
     "schema_version": 3,
     "solution": false,
     "task": true
    }
   },
   "outputs": [],
   "source": [
    "print(\"My favorite restaurant in Washington, D.C. is Cava.\")"
   ]
  },
  {
   "cell_type": "markdown",
   "id": "87d19c70-4c56-4139-a4fa-ff9176b8d537",
   "metadata": {
    "nbgrader": {
     "grade": false,
     "grade_id": "1c_kernels",
     "locked": true,
     "schema_version": 3,
     "solution": false,
     "task": false
    }
   },
   "source": [
    "### 1c. Kernels\n",
    "\n",
    "By now, you've probably run a lot of different cells. The **kernel** is the actual program that executes these cells in your notebook. For Dat'Life, you won't need to know too much about how the kernel works, but sometimes we'll interact directly with the kernel for troubleshooting.\n",
    "\n",
    "On the left side of every code cell, there will be a set of brackets and a colon. It should look something like this `[ ]:`. Before you run the cell, the brackets will be empty. When the cell is running, it should look like `[*]:`. After you run the cell, the asterisk will be replaced by a number corresponding with how many cells you've run already. If this is the first cell that you're running, the brackets will say `[1]:`. If this is the fifth cell, the brackets will show `[5]:` and so on.\n",
    "\n",
    "If your kernel is taking a really long time to run a cell (if it's stuck on `[*]:` for a really long time), you can troubleshoot by clicking \"Kernel\" in top menu bar and clicking \"Interrupt Kernel,\" and then \"Restart Kernel.\"\n",
    "\n",
    "Once a cell has been run, the kernel will remember the information executed within that cell. Restarting the kernel is essentially like wiping the kernel's memory and having it start from scratch. Thus, if you restart the kernel, you will lose all of your stored variables and you will have to rerun the cells that define those variables! *We'll talk about this more later when we start working in Python.*"
   ]
  },
  {
   "cell_type": "markdown",
   "id": "ebf85a2c-daca-4a85-b13d-bd504d4795d9",
   "metadata": {
    "nbgrader": {
     "grade": false,
     "grade_id": "Part2_intro",
     "locked": true,
     "schema_version": 3,
     "solution": false,
     "task": false
    }
   },
   "source": [
    "## Part 2: Python\n",
    "\n",
    "Speaking of Python, let's go over some basics of coding in Python. Some of the most frequent things we'll do in Python will be running math equations, using pre-existing functions, or creating our own functions.\n",
    "\n",
    "### 2a. Types, Statements, and Expressions\n",
    "\n",
    "Just like how the English language has differennt parts of speech, Python has different **types** of values. Python includes a variety of built-in data types, which are just terms to describe what kind of value you're using. For example, strings, or `str`, refer to a text type. If I want to refer to the word \"community\" in my code, I can use quotes around the word to indicate to Python that I'm using a string. To print the string \"community,\" I would use the function `print` with the string \"community\" as my input."
   ]
  },
  {
   "cell_type": "code",
   "execution_count": null,
   "id": "3edc53e5-5338-4ea2-a560-050c4abddf1e",
   "metadata": {
    "nbgrader": {
     "grade": false,
     "grade_id": "strings",
     "locked": true,
     "schema_version": 3,
     "solution": false,
     "task": false
    }
   },
   "outputs": [],
   "source": [
    "print(\"community\")"
   ]
  },
  {
   "cell_type": "markdown",
   "id": "4f1a4e2d-2713-44fa-8fea-0ed29acfdf0f",
   "metadata": {
    "nbgrader": {
     "grade": false,
     "grade_id": "types",
     "locked": true,
     "schema_version": 3,
     "solution": false,
     "task": false
    }
   },
   "source": [
    "Other types include:\n",
    "- `int`: integers, or whole numbers that can be positive, negative, or zero\n",
    "- `float`: numbers that include decimals\n",
    "- `list`: a sequence of multiple items (doesn't have to all be the same type) separated by commas\n",
    "- `bool`: Boolean values, which refer to either True or False\n",
    "\n",
    "*You don't need to memorize all of these right now, and understanding these different types will likely come intuitively as we explore Python.*\n",
    "\n",
    "Similarly, English has words and sentences, while Python has expressions and statements.\n",
    "\n",
    "**Expressions** are typically used for computation. For example, you can compute the mathematical expression 1 + 2 + 3 * 6 - 9 using a code cell. (Most mathematical operations work the same in Python and real life). Run the cell below to see what the answer is!"
   ]
  },
  {
   "cell_type": "code",
   "execution_count": null,
   "id": "7de65003-9d69-4d26-b2b8-ccb14412a46f",
   "metadata": {
    "nbgrader": {
     "grade": false,
     "grade_id": "expressions",
     "locked": true,
     "schema_version": 3,
     "solution": false,
     "task": false
    }
   },
   "outputs": [],
   "source": [
    "1 + 2 + 3 * 6 - 9"
   ]
  },
  {
   "cell_type": "markdown",
   "id": "8acd2d41-270c-41f3-9395-4629ff45f0a4",
   "metadata": {
    "nbgrader": {
     "grade": false,
     "grade_id": "statements",
     "locked": true,
     "schema_version": 3,
     "solution": false,
     "task": false
    }
   },
   "source": [
    "Meanwhile, **statements** are usually used to carry out an action, so that when the kernel runs the code, the kernel will carry out whatever action your code describes. This could include:\n",
    "- Use the `max` function to find the maximum value of a list of numbers."
   ]
  },
  {
   "cell_type": "code",
   "execution_count": null,
   "id": "1529d859-d5d1-4309-a7f6-332efe869940",
   "metadata": {
    "nbgrader": {
     "grade": false,
     "grade_id": "statements_ex",
     "locked": true,
     "schema_version": 3,
     "solution": false,
     "task": false
    }
   },
   "outputs": [],
   "source": [
    "max(1, 2, 3, 4)"
   ]
  },
  {
   "cell_type": "markdown",
   "id": "6e5f9a9e-fd4f-4429-a6e8-259580c401ac",
   "metadata": {
    "nbgrader": {
     "grade": false,
     "grade_id": "variable",
     "locked": true,
     "schema_version": 3,
     "solution": false,
     "task": false
    }
   },
   "source": [
    "- Creating a **variable**. A variable is container that can store data values of any type. You can make a variable through an assignment statement, where you assign a value to the variable name. For example, if we want to assign the value 12 to the variable `a`, we would use the statement below:"
   ]
  },
  {
   "cell_type": "code",
   "execution_count": null,
   "id": "77153698-792c-4a7c-9ec2-91b2e15c4ca6",
   "metadata": {
    "nbgrader": {
     "grade": false,
     "grade_id": "variable_ex",
     "locked": true,
     "schema_version": 3,
     "solution": false,
     "task": false
    }
   },
   "outputs": [],
   "source": [
    "a = 12"
   ]
  },
  {
   "cell_type": "markdown",
   "id": "83c28d8f-1f1a-4fc3-8ccf-2fee2929f2a0",
   "metadata": {
    "nbgrader": {
     "grade": false,
     "grade_id": "variable_ext",
     "locked": true,
     "schema_version": 3,
     "solution": false,
     "task": false
    }
   },
   "source": [
    "Statements can be as complex or simple as we want them to be. We can assign `b` to a singular value of 3, and `c` to an expression like the one we used previously (1 + 2 + 3 * 6 - 9)."
   ]
  },
  {
   "cell_type": "code",
   "execution_count": null,
   "id": "7599e319-b250-4337-9728-8f3dd2a85368",
   "metadata": {
    "nbgrader": {
     "grade": false,
     "grade_id": "variable_ext_ex",
     "locked": true,
     "schema_version": 3,
     "solution": false,
     "task": false
    }
   },
   "outputs": [],
   "source": [
    "b = 3\n",
    "c = 1 + 2 + 3 * 6 - 9"
   ]
  },
  {
   "cell_type": "markdown",
   "id": "ce7e56d4-e09a-4add-81ea-d67b7a0a4e3b",
   "metadata": {
    "nbgrader": {
     "grade": false,
     "grade_id": "Q2a1_intro",
     "locked": true,
     "schema_version": 3,
     "solution": false,
     "task": false
    }
   },
   "source": [
    "After assigning our variables, our **kernel** (recall what we talked about in Part 1!) will \"store\" these values with their respective names. As long as we haven't restarted my kernel or wiped it, `a` will always refer to 12 in this notebook, and `b` will always refer to my expression.\n",
    "\n",
    "**Q2a.1.** Solve the math equation 3 * 12 only with the variables we defined earlier (`a`, `b`, `c`). Assign the answer to the variable `product` in the cell below."
   ]
  },
  {
   "cell_type": "code",
   "execution_count": null,
   "id": "a0e212e0-4852-4164-8416-08bcf9cf06ae",
   "metadata": {
    "nbgrader": {
     "grade": true,
     "grade_id": "Q2a1",
     "locked": true,
     "points": 1,
     "schema_version": 3,
     "solution": false,
     "task": false
    }
   },
   "outputs": [],
   "source": [
    "product = ...\n",
    "product"
   ]
  },
  {
   "cell_type": "markdown",
   "id": "a38bdc83-6a89-444c-8c5c-c204306923b9",
   "metadata": {
    "nbgrader": {
     "grade": false,
     "grade_id": "updating_variable",
     "locked": true,
     "schema_version": 3,
     "solution": false,
     "task": false
    }
   },
   "source": [
    "*Side note: Notice how running the variable name will return the value. While assignment statements may define a variable and allow the kernel to store it, running an assignment statement by itself will not return any value, or result in any output. You can run the variable name to see the value of the variable.*\n",
    "\n",
    "*Likewise, when there are multiple lines of code in a cell, running the cell will execute all of the code, but only the last line of returnable code will be returned, or show up as an output in Jupyter Notebook.*\n",
    "\n",
    "You can update a variable by writing a new assignment statement and assigning it to a new value. For example, if I want `b` to refer to 5 instead, I can simply run the cell below. The kernel will always use the most recent value, so if you go back and rerun the cell assigning `b` = 3, the kernel will remember b as 3 once again. Run the cell below to update `b`."
   ]
  },
  {
   "cell_type": "code",
   "execution_count": null,
   "id": "9ed34e85-d269-4ba1-9f77-bfb86240be99",
   "metadata": {
    "nbgrader": {
     "grade": false,
     "grade_id": "new_b",
     "locked": true,
     "schema_version": 3,
     "solution": false,
     "task": false
    }
   },
   "outputs": [],
   "source": [
    "b = 5"
   ]
  },
  {
   "cell_type": "markdown",
   "id": "b38a3f5a-43f4-47ef-a4f4-3514568328bb",
   "metadata": {
    "nbgrader": {
     "grade": false,
     "grade_id": "cell-920e47b013c6d836",
     "locked": true,
     "schema_version": 3,
     "solution": false,
     "task": false
    }
   },
   "source": [
    "Since we defined `product` in **Q2a.1** with now-outdated variables, the value that `product` still refers to `a` * `b` when `b` = 3. Run the cell below to see how `product`'s value has stayed the same."
   ]
  },
  {
   "cell_type": "code",
   "execution_count": null,
   "id": "2c571fa3-9525-43af-9623-7a2495529fef",
   "metadata": {
    "nbgrader": {
     "grade": false,
     "grade_id": "cell-0a9284fc333e8faa",
     "locked": true,
     "schema_version": 3,
     "solution": false,
     "task": false
    }
   },
   "outputs": [],
   "source": [
    "product"
   ]
  },
  {
   "cell_type": "markdown",
   "id": "a0521c12-96bb-45da-9ac9-4ea6c45d2bfa",
   "metadata": {
    "nbgrader": {
     "grade": false,
     "grade_id": "cell-48a4bfe131b04e5e",
     "locked": true,
     "schema_version": 3,
     "solution": false,
     "task": false
    }
   },
   "source": [
    "To update `product` with our new `b` value, we need to redefine `product`. We can do this by rerunning the cell where we defined it (after we've run the statement `b` = 5). Alternatively, we can just use the same code in a new cell.\n",
    "\n",
    "**Q2a.2.** Copy your code from **Q2a.1.** into the cell below to see what `product`'s new value is."
   ]
  },
  {
   "cell_type": "code",
   "execution_count": null,
   "id": "096ae9de-25d3-469e-a578-f26737a5b3a5",
   "metadata": {
    "nbgrader": {
     "grade": true,
     "grade_id": "Q2a2",
     "locked": true,
     "points": 1,
     "schema_version": 3,
     "solution": false,
     "task": false
    }
   },
   "outputs": [],
   "source": [
    "product =\n",
    "product"
   ]
  },
  {
   "cell_type": "markdown",
   "id": "91d48e37-c02b-4de1-b0e0-dfd1ed4009f4",
   "metadata": {
    "nbgrader": {
     "grade": false,
     "grade_id": "Q2a3_intro",
     "locked": true,
     "schema_version": 3,
     "solution": false,
     "task": false
    }
   },
   "source": [
    "One more thing to note: When we make assignment statements, we use a singular equal sign `=`. A singular equal sign is only used to assign values to names/variables. To compare two values like you would in a math equation, we need to use a double equal sign `==`.\n",
    "\n",
    "Other comparison operators in Python are:\n",
    "- `>` and `<`: greater than and less than (the same as they are in math)\n",
    "- `>=` and `<=`: greater than or equal to, and less than or equal to (<u>></u> and <u><</u> in mathematical notation)\n",
    "- `!=`: not equal to\n",
    "\n",
    "**Q2a.3.** Assign `q2a3` to a list of the statements below that are correct.\n",
    "\n",
    "1. a > b\n",
    "2. b > c\n",
    "3. a >= c\n",
    "4. a == c"
   ]
  },
  {
   "cell_type": "code",
   "execution_count": null,
   "id": "bf880574-bc1f-456c-9155-3d3340995ee0",
   "metadata": {
    "nbgrader": {
     "grade": true,
     "grade_id": "Q2a3a",
     "locked": true,
     "points": 3,
     "schema_version": 3,
     "solution": false,
     "task": false
    }
   },
   "outputs": [],
   "source": [
    "q2a3 = ..."
   ]
  },
  {
   "cell_type": "markdown",
   "id": "b3b861b3-b697-4f1a-ac99-c400afbcdf7e",
   "metadata": {
    "nbgrader": {
     "grade": false,
     "grade_id": "Q2b1_intro",
     "locked": true,
     "schema_version": 3,
     "solution": false,
     "task": false
    }
   },
   "source": [
    "### 2b. Functions and Syntax\n",
    "\n",
    "When we code in Python, we'll typically use a combination of functions, variables, and numbers. A function is just like a mathematical function where it will take in an input and return an output. In this lab, we've already used the `print` function and the `max` function. Each function will have its own input guidelines (what type of values it takes in, and how many values). As we get more advanced, we can look at the **documentation**, or explanations and descriptions of the code, for different functions to make sure we're inputting the right things.\n",
    "\n",
    "You can typically check the documentation in a few different ways:\n",
    "- Put your cursor right after the function name in a cell and hold `shift` + `tab`.\n",
    "- Type the \"?\" symbol right after a function name in a code cell and run it.\n",
    "\n",
    "**Q2b.1.** Check the documentation of `abs` with any method below. Don't worry if you can't fully understand what the documentation means right now. In the following cell, assign the variable `abs_docstring` to what the function `abs` does, formatted as a string.\n",
    "\n",
    "*Hint: Make sure to copy what the documentation says exactly, and format your answer as a string. Check Part 2a for more about types of values.*"
   ]
  },
  {
   "cell_type": "code",
   "execution_count": null,
   "id": "8bfd829f-5fc2-4f65-80c0-88bb8a5db777",
   "metadata": {
    "nbgrader": {
     "grade": false,
     "grade_id": "cell-7796dff61b8773b8",
     "locked": true,
     "schema_version": 3,
     "solution": false,
     "task": false
    }
   },
   "outputs": [],
   "source": [
    "abs"
   ]
  },
  {
   "cell_type": "code",
   "execution_count": null,
   "id": "3a11ee28-03d6-459b-8442-6247d6e4aa9d",
   "metadata": {
    "nbgrader": {
     "grade": false,
     "grade_id": "Q2b1",
     "locked": false,
     "schema_version": 3,
     "solution": true,
     "task": false
    }
   },
   "outputs": [],
   "source": [
    "abs_docstring = ..."
   ]
  },
  {
   "cell_type": "markdown",
   "id": "eb0f4a33-61b2-4092-adbe-9b78f31e7360",
   "metadata": {
    "nbgrader": {
     "grade": false,
     "grade_id": "cell-099156f4cc23e2ab",
     "locked": true,
     "schema_version": 3,
     "solution": false,
     "task": false
    }
   },
   "source": [
    "Each function takes in **arguments**, or values. When we look at `abs` for example, the first line of the documentation shows us that this function takes in \"x\", or any numerical value. Putting that together with the docstring, we know that this function will return the absolute value of \"x.\" It's important to note the type of argument that a function takes in, as well as how many.\n",
    "\n",
    "Run the cell below to look at the documentation for the function `min`."
   ]
  },
  {
   "cell_type": "code",
   "execution_count": null,
   "id": "d24b85d0-2eeb-4ae0-8d86-8480b73508cb",
   "metadata": {
    "nbgrader": {
     "grade": false,
     "grade_id": "cell-7915194dab3649c6",
     "locked": true,
     "schema_version": 3,
     "solution": false,
     "task": false
    }
   },
   "outputs": [],
   "source": [
    "min?"
   ]
  },
  {
   "cell_type": "markdown",
   "id": "ebbbec46-b782-4215-afda-81bb2c718b0d",
   "metadata": {
    "nbgrader": {
     "grade": false,
     "grade_id": "cell-98cdcaa6825c2049",
     "locked": true,
     "schema_version": 3,
     "solution": false,
     "task": false
    }
   },
   "source": [
    "Notice how the docstring specifies \"two or more arguments.\" Thus, in order to successfully code with the function `min`, we need to input at least two separate values.\n",
    "\n",
    "\n",
    "Looking at documentation can also help us use the correct **syntax** for Python. Just like how English has grammatical rules, Python has its own rules for how to write code, known as **syntax**. Much of the syntax will come intuitively as you practice coding in Python more. We've already covered some rules throughout this lab, but here are some more basic rules to keep in mind for now:\n",
    "\n",
    "- Parenthesis and brackets always come in pairs.\n",
    "    - Basically, you can't have one parenthesis `(` by itself without a closing parenthesis `)`, and vice versa.\n",
    "- Parenthesis follow the same logic as arithmetic, where the innermost expression will be executed first\n",
    "    - For example, abs(7 - max(3, 4, 5, (7 - 1))) will start by\n",
    "- We generally cannot use spaces for names in Python.\n",
    "    - For example, assigning a value to a varaible `test variable` would not work. Instead, we can use an underscore `test_variable`."
   ]
  },
  {
   "cell_type": "markdown",
   "id": "aafb6eca-9460-4e07-afc5-77ad6739f61c",
   "metadata": {
    "nbgrader": {
     "grade": false,
     "grade_id": "Q2b2_intro",
     "locked": true,
     "schema_version": 3,
     "solution": false,
     "task": false
    }
   },
   "source": [
    "**Q2b.2.** When you don't follow syntax, running your code will result in an Error message. Run the cell below to see what kind of message we get when we make an error. Then assign the corresponding number to `error_type` and fix the error.\n",
    "\n",
    "1. IndentationError\n",
    "2. SyntaxError\n",
    "3. ValueError"
   ]
  },
  {
   "cell_type": "code",
   "execution_count": null,
   "id": "e8187c51-fc13-4d11-bfb6-acc804288f86",
   "metadata": {
    "nbgrader": {
     "grade": true,
     "grade_id": "Q2b2_code",
     "locked": true,
     "points": 1,
     "schema_version": 3,
     "solution": false,
     "task": false
    }
   },
   "outputs": [],
   "source": [
    "error = min(5, -6, 8"
   ]
  },
  {
   "cell_type": "code",
   "execution_count": null,
   "id": "9859b164-4c66-4556-9000-72c9df4e0d88",
   "metadata": {
    "nbgrader": {
     "grade": true,
     "grade_id": "Q2b2",
     "locked": true,
     "points": 1,
     "schema_version": 3,
     "solution": false,
     "task": false
    }
   },
   "outputs": [],
   "source": [
    "error_type = ..."
   ]
  },
  {
   "cell_type": "markdown",
   "id": "715bd88c-363f-40d9-8898-7c518df7f6f4",
   "metadata": {
    "nbgrader": {
     "grade": false,
     "grade_id": "cell-44df04576bcd4ae8",
     "locked": true,
     "schema_version": 3,
     "solution": false,
     "task": false
    }
   },
   "source": [
    "As your code gets more complex, so too will your error messages. Don't be alarmed if you can't understand everything right away. Still, sometimes understanding the type of error can help a lot in debugging."
   ]
  },
  {
   "cell_type": "markdown",
   "id": "6857fe97-9e4f-4974-b8c7-e226263a4f1e",
   "metadata": {
    "nbgrader": {
     "grade": false,
     "grade_id": "cell-8404694c0d49ba13",
     "locked": true,
     "schema_version": 3,
     "solution": false,
     "task": false
    }
   },
   "source": [
    "## Submission\n",
    "\n",
    "Congratulations on finishing your first lab! To make sure you get credit for the lab, we need to save and export your work. First, check that you have run all your cells in the correct order to produce the right output (you can click \"Run\" and then \"Run All Cells\"). Next, click on \"File\" at the top menu bar and click \"Save Notebook\" to ensure that the most recent version of your notebook is saved. Finally, click \"File\" again and click \"Save and Export Notebook,\" which will give you a list of formats. Choose whichever format your instructor indicates.\n",
    "\n",
    "All done! See you next time!"
   ]
  }
 ],
 "metadata": {
  "kernelspec": {
   "display_name": "Python 3",
   "language": "python",
   "name": "python3"
  },
  "language_info": {
   "codemirror_mode": {
    "name": "ipython",
    "version": 3
   },
   "file_extension": ".py",
   "mimetype": "text/x-python",
   "name": "python",
   "nbconvert_exporter": "python",
   "pygments_lexer": "ipython3",
   "version": "3.12.2"
  }
 },
 "nbformat": 4,
 "nbformat_minor": 5
}
